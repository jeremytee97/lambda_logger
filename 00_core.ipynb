{
 "cells": [
  {
   "cell_type": "code",
   "execution_count": null,
   "metadata": {
    "Collapsed": "false"
   },
   "outputs": [],
   "source": [
    "# default_exp core"
   ]
  },
  {
   "cell_type": "markdown",
   "metadata": {
    "Collapsed": "false"
   },
   "source": [
    "# core\n",
    "\n",
    "> API details."
   ]
  },
  {
   "cell_type": "code",
   "execution_count": null,
   "metadata": {
    "Collapsed": "false"
   },
   "outputs": [],
   "source": [
    "#hide\n",
    "from nbdev.showdoc import *"
   ]
  },
  {
   "cell_type": "code",
   "execution_count": null,
   "metadata": {
    "Collapsed": "false"
   },
   "outputs": [],
   "source": [
    "#export\n",
    "from sentry_sdk import configure_scope, capture_event, capture_exception, set_tag\n",
    "from sentry_sdk.integrations.aws_lambda import AwsLambdaIntegration\n",
    "from aws_lambda_powertools import Logger\n",
    "\n",
    "import sentry_sdk\n",
    "import sys\n",
    "import os\n",
    "\n",
    "def before_send(event, hint):\n",
    "    if 'exc_info' not in hint:\n",
    "        return event\n",
    "\n",
    "    exception = hint['exc_info'][1] \n",
    "    if isinstance(exception, str):\n",
    "        event['fingerprint'] = ['str-error-messages']\n",
    "    elif isinstance(exception, dict):\n",
    "        event['fingerprint'] = ['dict-error-messages']\n",
    "    elif isinstance(exception, list):\n",
    "        event['fingerprint'] = ['list-error-messages']\n",
    "    return event\n",
    "\n",
    "\n",
    "sentry_sdk.init(\n",
    "        dsn=os.environ[\"SENTRY_DSN\"],\n",
    "        environment=os.environ[\"SERVERLESS_STAGE\"],\n",
    "        integrations=[AwsLambdaIntegration()],\n",
    "        before_send=before_send)\n",
    "    \n",
    "set_tag(\"project\", os.environ[\"PROJECT_NAME\"])\n",
    "set_tag(\"fn_name\", os.environ[\"FN_NAME\"])\n",
    "\n",
    "logger = Logger(level=\"INFO\")\n",
    "\n",
    "# Logging an exception\n",
    "def capture_error(error, method, context=None):\n",
    "    logger.error(error, {\"method\":method, \"context\": context})\n",
    "    if (os.environ[\"SERVERLESS_STAGE\"] == \"sandbox\" or os.environ[\"SERVERLESS_STAGE\"] == \"production\"):\n",
    "        with configure_scope() as scope:\n",
    "            scope.set_tag(\"method\", method)\n",
    "            if (context is not None):\n",
    "                scope.set_extra(\"context\", context)\n",
    "        capture_exception(error)"
   ]
  }
 ],
 "metadata": {
  "kernelspec": {
   "display_name": "Python 3",
   "language": "python",
   "name": "python3"
  },
  "language_info": {
   "codemirror_mode": {
    "name": "ipython",
    "version": 3
   },
   "file_extension": ".py",
   "mimetype": "text/x-python",
   "name": "python",
   "nbconvert_exporter": "python",
   "pygments_lexer": "ipython3",
   "version": "3.7.6"
  }
 },
 "nbformat": 4,
 "nbformat_minor": 4
}
